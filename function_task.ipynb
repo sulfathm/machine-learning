{
  "nbformat": 4,
  "nbformat_minor": 0,
  "metadata": {
    "colab": {
      "provenance": []
    },
    "kernelspec": {
      "name": "python3",
      "display_name": "Python 3"
    },
    "language_info": {
      "name": "python"
    }
  },
  "cells": [
    {
      "cell_type": "code",
      "execution_count": null,
      "metadata": {
        "colab": {
          "base_uri": "https://localhost:8080/"
        },
        "id": "Y2gxpBVbihSo",
        "outputId": "c36e6994-da8e-4de6-c0a9-8147d039c700"
      },
      "outputs": [
        {
          "output_type": "stream",
          "name": "stdout",
          "text": [
            "first string7\n",
            "second string6\n",
            "both strings are same length\n"
          ]
        }
      ],
      "source": [
        "string=input('first string')\n",
        "string1=input('second string')\n",
        "if (len(string)==len(string1)):\n",
        "    print('both strings are same length')\n",
        "else:\n",
        "  (len(string)!=len(string1))\n",
        "  print('both stringsa are different length')"
      ]
    },
    {
      "cell_type": "code",
      "source": [
        "def length(string,string1):\n",
        "  l1=len(string)\n",
        "  l2=len(string1)\n",
        "  if l1>l2:\n",
        "    print(\"largest is l1 and the length is: \",l1)\n",
        "  elif l2>l1:\n",
        "    print(\"largest is l2 and the length is: \",l2)\n",
        "  else:\n",
        "    print(string)\n",
        "    print(string1)\n",
        "\n",
        "st=input('first string')\n",
        "st1=input('second string')\n",
        "\n",
        "\n",
        "length(st,st1)"
      ],
      "metadata": {
        "colab": {
          "base_uri": "https://localhost:8080/"
        },
        "id": "LSN2gfidEk-V",
        "outputId": "3cb2e693-de10-44f4-c9f5-3a324b265c8e"
      },
      "execution_count": null,
      "outputs": [
        {
          "output_type": "stream",
          "name": "stdout",
          "text": [
            "first stringhai\n",
            "second stringhello\n",
            "largest is l2 and the length is:  5\n"
          ]
        }
      ]
    },
    {
      "cell_type": "code",
      "source": [
        "def check(num):\n",
        "  if num%2==0:\n",
        "    print('it is an even')\n",
        "  else:\n",
        "    print('it is an odd')\n",
        "num=int(input('enter a number :'))\n",
        "check(num)\n"
      ],
      "metadata": {
        "colab": {
          "base_uri": "https://localhost:8080/"
        },
        "id": "p6jdK0RXmO29",
        "outputId": "da8dcefb-49f7-4f39-8858-dd140ab4cbeb"
      },
      "execution_count": null,
      "outputs": [
        {
          "output_type": "stream",
          "name": "stdout",
          "text": [
            "enter a number :5\n",
            "it is an odd\n"
          ]
        }
      ]
    },
    {
      "cell_type": "code",
      "source": [
        "num=int(input('enter a number :'))\n",
        "if num%2==0:\n",
        "  print('it is an even')\n",
        "else :\n",
        "  num%2!=0\n",
        "\n",
        "  print('it is an odd')\n"
      ],
      "metadata": {
        "id": "kV8MN5NzoMfS",
        "colab": {
          "base_uri": "https://localhost:8080/"
        },
        "outputId": "16247280-adc7-4e12-aacc-ef7711d3ca37"
      },
      "execution_count": null,
      "outputs": [
        {
          "output_type": "stream",
          "name": "stdout",
          "text": [
            "enter a number :6\n",
            "it is an even\n"
          ]
        }
      ]
    },
    {
      "cell_type": "code",
      "source": [
        "def square():\n",
        "  dictionary=dict()\n",
        "  dictionary[1]=1**1\n",
        "  dictionary[2]=2**2\n",
        "  dictionary[3]=3**2\n",
        "  print(dictionary)\n",
        "\n",
        "square()\n",
        "\n",
        "\n",
        "    \n",
        "    \n",
        "    \n"
      ],
      "metadata": {
        "colab": {
          "base_uri": "https://localhost:8080/"
        },
        "id": "qXyXyJLMG4aF",
        "outputId": "733bf00e-f3f6-4043-ed9c-9a91f4d10455"
      },
      "execution_count": null,
      "outputs": [
        {
          "output_type": "stream",
          "name": "stdout",
          "text": [
            "{1: 1, 2: 4, 3: 9}\n"
          ]
        }
      ]
    },
    {
      "cell_type": "code",
      "source": [
        "\n",
        "def squa():\n",
        "  di=dict()\n",
        "  for i in range(1,20+1):\n",
        "    di[i]=i**2\n",
        "  print(di)\n",
        "squa()"
      ],
      "metadata": {
        "colab": {
          "base_uri": "https://localhost:8080/"
        },
        "id": "AowAkC2aMNhI",
        "outputId": "72c1e80d-ac26-4e93-acae-8724b51d05aa"
      },
      "execution_count": null,
      "outputs": [
        {
          "output_type": "stream",
          "name": "stdout",
          "text": [
            "{1: 1, 2: 4, 3: 9, 4: 16, 5: 25, 6: 36, 7: 49, 8: 64, 9: 81, 10: 100, 11: 121, 12: 144, 13: 169, 14: 196, 15: 225, 16: 256, 17: 289, 18: 324, 19: 361, 20: 400}\n"
          ]
        }
      ]
    },
    {
      "cell_type": "code",
      "source": [
        "def aims():\n",
        "  d=dict()\n",
        "  for i in range(1,20+1):\n",
        "    d[i]=i**2\n",
        "    key=d.keys()\n",
        "    value=d.values()\n",
        "  print(value)\n",
        "aims()\n"
      ],
      "metadata": {
        "colab": {
          "base_uri": "https://localhost:8080/"
        },
        "id": "XWAsaa2JTCmL",
        "outputId": "f766f8f4-b575-4800-e388-907f43a7f2b3"
      },
      "execution_count": null,
      "outputs": [
        {
          "output_type": "stream",
          "name": "stdout",
          "text": [
            "dict_values([1, 4, 9, 16, 25, 36, 49, 64, 81, 100, 121, 144, 169, 196, 225, 256, 289, 324, 361, 400])\n"
          ]
        }
      ]
    },
    {
      "cell_type": "code",
      "source": [
        "def aim():\n",
        "  d=dict()\n",
        "  for i in range(1,20+1):\n",
        "    d[i]=i**2\n",
        "    key=d.keys()\n",
        "    value=d.values()\n",
        "  print(key)\n",
        "aim()"
      ],
      "metadata": {
        "colab": {
          "base_uri": "https://localhost:8080/"
        },
        "id": "RuOxnUtGVpJR",
        "outputId": "287ad4b7-420e-4623-9b4f-06fa44260d80"
      },
      "execution_count": null,
      "outputs": [
        {
          "output_type": "stream",
          "name": "stdout",
          "text": [
            "dict_keys([1, 2, 3, 4, 5, 6, 7, 8, 9, 10, 11, 12, 13, 14, 15, 16, 17, 18, 19, 20])\n"
          ]
        }
      ]
    },
    {
      "cell_type": "code",
      "source": [
        "def lists():\n",
        "  mylist=[]\n",
        "  for i in range(1,20+1):\n",
        "    i=i**2\n",
        "    mylist.append(i)\n",
        "  print(mylist[1:6])\n",
        "\n",
        "\n",
        "lists()"
      ],
      "metadata": {
        "colab": {
          "base_uri": "https://localhost:8080/"
        },
        "id": "z9qmvbd9XfuP",
        "outputId": "84fd157d-d5e5-4b61-ebc3-40a40a0f070d"
      },
      "execution_count": null,
      "outputs": [
        {
          "output_type": "stream",
          "name": "stdout",
          "text": [
            "[4, 9, 16, 25, 36]\n"
          ]
        }
      ]
    },
    {
      "cell_type": "code",
      "source": [
        "def lists():\n",
        "  mylist=[]\n",
        "  for i in range(1,20+1):\n",
        "    i=i**2\n",
        "    mylist.append(i)\n",
        "  print(mylist[15:21])\n",
        "\n",
        "lists()"
      ],
      "metadata": {
        "colab": {
          "base_uri": "https://localhost:8080/"
        },
        "id": "XBIorLeNeL99",
        "outputId": "451c4499-1f6c-4a62-d98a-3c7f85115d85"
      },
      "execution_count": null,
      "outputs": [
        {
          "output_type": "stream",
          "name": "stdout",
          "text": [
            "[256, 289, 324, 361, 400]\n"
          ]
        }
      ]
    },
    {
      "cell_type": "code",
      "source": [
        "def lists():\n",
        "  mylist=[]\n",
        "  for i in range(1,20+1):\n",
        "    i=i**2\n",
        "    mylist.append(i)\n",
        "  print(mylist)\n",
        "lists()"
      ],
      "metadata": {
        "colab": {
          "base_uri": "https://localhost:8080/"
        },
        "id": "_8FQITh_f_1G",
        "outputId": "dbd2ef17-7bcc-4fd2-b2de-5e4331fdd572"
      },
      "execution_count": null,
      "outputs": [
        {
          "output_type": "stream",
          "name": "stdout",
          "text": [
            "[1, 4, 9, 16, 25, 36, 49, 64, 81, 100, 121, 144, 169, 196, 225, 256, 289, 324, 361, 400]\n"
          ]
        }
      ]
    },
    {
      "cell_type": "code",
      "source": [
        "def lists():\n",
        "  mylist=[]\n",
        "  for i in range(1,20+1):\n",
        "    i=i**2\n",
        "    mylist.append(i)\n",
        "  print(mylist[6:21])\n",
        "lists()"
      ],
      "metadata": {
        "colab": {
          "base_uri": "https://localhost:8080/"
        },
        "id": "Tzs_fZevg0_8",
        "outputId": "9beea9d5-bb47-4ea8-9052-ffd364fa1c6f"
      },
      "execution_count": null,
      "outputs": [
        {
          "output_type": "stream",
          "name": "stdout",
          "text": [
            "[49, 64, 81, 100, 121, 144, 169, 196, 225, 256, 289, 324, 361, 400]\n"
          ]
        }
      ]
    },
    {
      "cell_type": "code",
      "source": [
        "def tuples():\n",
        "  mytuple=[]\n",
        "  for i in range(1,20+1):\n",
        "    i=i**2\n",
        "    mytuple.append(i)\n",
        "  \n",
        "  b=tuple(mytuple)\n",
        "  print(b)\n",
        "  \n",
        "\n",
        "tuples()\n",
        "\n"
      ],
      "metadata": {
        "colab": {
          "base_uri": "https://localhost:8080/"
        },
        "id": "KxEmLxb7jAeP",
        "outputId": "ecadbe9b-baea-40b7-e7b9-852736bf256e"
      },
      "execution_count": null,
      "outputs": [
        {
          "output_type": "stream",
          "name": "stdout",
          "text": [
            "(1, 4, 9, 16, 25, 36, 49, 64, 81, 100, 121, 144, 169, 196, 225, 256, 289, 324, 361, 400)\n"
          ]
        }
      ]
    },
    {
      "cell_type": "code",
      "source": [
        "tuples=(1,2,3,4,5,6,7,8,9,10)\n",
        "print(tuples[0:5])\n",
        "print(tuples[5:10])"
      ],
      "metadata": {
        "colab": {
          "base_uri": "https://localhost:8080/"
        },
        "id": "MEehMWcYkhuL",
        "outputId": "3b5477f5-b59f-481e-e6f8-ed149c11007c"
      },
      "execution_count": null,
      "outputs": [
        {
          "output_type": "stream",
          "name": "stdout",
          "text": [
            "(1, 2, 3, 4, 5)\n",
            "(6, 7, 8, 9, 10)\n"
          ]
        }
      ]
    },
    {
      "cell_type": "code",
      "source": [
        "tuples=(1,2,3,4,5,6,7,8,9,10)\n",
        "mytuple=[]\n",
        "for i in tuples:\n",
        "  if i%2==0:\n",
        "    mytuple.append(i)\n",
        "    f=tuple(mytuple)\n",
        "print(f)\n",
        "  "
      ],
      "metadata": {
        "colab": {
          "base_uri": "https://localhost:8080/"
        },
        "id": "8pdYW89FpWg5",
        "outputId": "003cfa01-957a-4441-ba37-70435b685b8d"
      },
      "execution_count": null,
      "outputs": [
        {
          "output_type": "stream",
          "name": "stdout",
          "text": [
            "(2, 4, 6, 8, 10)\n"
          ]
        }
      ]
    },
    {
      "cell_type": "code",
      "source": [
        "p=[1,2,3,4,5,6,7,8,9,10]\n",
        "l=list(filter(lambda x: x%2==0,  p))\n",
        "print(l)\n"
      ],
      "metadata": {
        "colab": {
          "base_uri": "https://localhost:8080/",
          "height": 200
        },
        "id": "1RfwC3JvrTfV",
        "outputId": "d5f5c111-ab31-4b60-fbf2-886b9016e0bd"
      },
      "execution_count": null,
      "outputs": [
        {
          "output_type": "error",
          "ename": "TypeError",
          "evalue": "ignored",
          "traceback": [
            "\u001b[0;31m---------------------------------------------------------------------------\u001b[0m",
            "\u001b[0;31mTypeError\u001b[0m                                 Traceback (most recent call last)",
            "\u001b[0;32m<ipython-input-137-61028aff6c63>\u001b[0m in \u001b[0;36m<module>\u001b[0;34m\u001b[0m\n\u001b[1;32m      1\u001b[0m \u001b[0mp\u001b[0m\u001b[0;34m=\u001b[0m\u001b[0;34m[\u001b[0m\u001b[0;36m1\u001b[0m\u001b[0;34m,\u001b[0m\u001b[0;36m2\u001b[0m\u001b[0;34m,\u001b[0m\u001b[0;36m3\u001b[0m\u001b[0;34m,\u001b[0m\u001b[0;36m4\u001b[0m\u001b[0;34m,\u001b[0m\u001b[0;36m5\u001b[0m\u001b[0;34m,\u001b[0m\u001b[0;36m6\u001b[0m\u001b[0;34m,\u001b[0m\u001b[0;36m7\u001b[0m\u001b[0;34m,\u001b[0m\u001b[0;36m8\u001b[0m\u001b[0;34m,\u001b[0m\u001b[0;36m9\u001b[0m\u001b[0;34m,\u001b[0m\u001b[0;36m10\u001b[0m\u001b[0;34m]\u001b[0m\u001b[0;34m\u001b[0m\u001b[0;34m\u001b[0m\u001b[0m\n\u001b[0;32m----> 2\u001b[0;31m \u001b[0ml\u001b[0m\u001b[0;34m=\u001b[0m\u001b[0mlist\u001b[0m\u001b[0;34m(\u001b[0m\u001b[0mfilter\u001b[0m\u001b[0;34m(\u001b[0m\u001b[0;32mlambda\u001b[0m \u001b[0mx\u001b[0m\u001b[0;34m:\u001b[0m \u001b[0mx\u001b[0m\u001b[0;34m%\u001b[0m\u001b[0;36m2\u001b[0m\u001b[0;34m==\u001b[0m\u001b[0;36m0\u001b[0m\u001b[0;34m,\u001b[0m \u001b[0mp\u001b[0m\u001b[0;34m)\u001b[0m\u001b[0;34m)\u001b[0m\u001b[0;34m\u001b[0m\u001b[0;34m\u001b[0m\u001b[0m\n\u001b[0m\u001b[1;32m      3\u001b[0m \u001b[0mprint\u001b[0m\u001b[0;34m(\u001b[0m\u001b[0ml\u001b[0m\u001b[0;34m)\u001b[0m\u001b[0;34m\u001b[0m\u001b[0;34m\u001b[0m\u001b[0m\n",
            "\u001b[0;31mTypeError\u001b[0m: list() takes 0 positional arguments but 1 was given"
          ]
        }
      ]
    },
    {
      "cell_type": "code",
      "source": [
        "l=[1,2,3,4,5,6,7,8,9,10]\n",
        "l1=list(map(lambda x:x**2,1))\n",
        "print(l1)"
      ],
      "metadata": {
        "colab": {
          "base_uri": "https://localhost:8080/"
        },
        "id": "qVVXOHGeu43v",
        "outputId": "f83d1f0c-d197-469d-d68c-17be04b12ff5"
      },
      "execution_count": null,
      "outputs": [
        {
          "output_type": "error",
          "ename": "TypeError",
          "evalue": "ignored",
          "traceback": [
            "\u001b[0;31m---------------------------------------------------------------------------\u001b[0m",
            "\u001b[0;31mTypeError\u001b[0m                                 Traceback (most recent call last)",
            "\u001b[0;32m<ipython-input-1-7740e662f0ca>\u001b[0m in \u001b[0;36m<module>\u001b[0;34m\u001b[0m\n\u001b[1;32m      1\u001b[0m \u001b[0ml\u001b[0m\u001b[0;34m=\u001b[0m\u001b[0;34m[\u001b[0m\u001b[0;36m1\u001b[0m\u001b[0;34m,\u001b[0m\u001b[0;36m2\u001b[0m\u001b[0;34m,\u001b[0m\u001b[0;36m3\u001b[0m\u001b[0;34m,\u001b[0m\u001b[0;36m4\u001b[0m\u001b[0;34m,\u001b[0m\u001b[0;36m5\u001b[0m\u001b[0;34m,\u001b[0m\u001b[0;36m6\u001b[0m\u001b[0;34m,\u001b[0m\u001b[0;36m7\u001b[0m\u001b[0;34m,\u001b[0m\u001b[0;36m8\u001b[0m\u001b[0;34m,\u001b[0m\u001b[0;36m9\u001b[0m\u001b[0;34m,\u001b[0m\u001b[0;36m10\u001b[0m\u001b[0;34m]\u001b[0m\u001b[0;34m\u001b[0m\u001b[0;34m\u001b[0m\u001b[0m\n\u001b[0;32m----> 2\u001b[0;31m \u001b[0ml1\u001b[0m\u001b[0;34m=\u001b[0m\u001b[0mlist\u001b[0m\u001b[0;34m(\u001b[0m\u001b[0mmap\u001b[0m\u001b[0;34m(\u001b[0m\u001b[0;32mlambda\u001b[0m \u001b[0mx\u001b[0m\u001b[0;34m:\u001b[0m\u001b[0mx\u001b[0m\u001b[0;34m**\u001b[0m\u001b[0;36m2\u001b[0m\u001b[0;34m,\u001b[0m\u001b[0;36m1\u001b[0m\u001b[0;34m)\u001b[0m\u001b[0;34m)\u001b[0m\u001b[0;34m\u001b[0m\u001b[0;34m\u001b[0m\u001b[0m\n\u001b[0m\u001b[1;32m      3\u001b[0m \u001b[0mprint\u001b[0m\u001b[0;34m(\u001b[0m\u001b[0ml1\u001b[0m\u001b[0;34m)\u001b[0m\u001b[0;34m\u001b[0m\u001b[0;34m\u001b[0m\u001b[0m\n",
            "\u001b[0;31mTypeError\u001b[0m: 'int' object is not iterable"
          ]
        }
      ]
    },
    {
      "cell_type": "code",
      "source": [
        "rows = int(input(\"Enter the number of rows: \"))\n",
        "space = 2 * rows - 2  \n",
        "\n",
        "  \n",
        "\n",
        " \n",
        "for i in range(rows, -1, -1):  \n",
        "  \n",
        "    for j in range(space, 0, -1):  \n",
        "        print(end=\" \")  \n",
        "    space = space + 1  \n",
        "    \n",
        "    for j in range(0, i + 1):  \n",
        "        print(\"*\", end=\" \")  \n",
        "    print(\"\")  \n"
      ],
      "metadata": {
        "id": "YUWSEIeLOnxh",
        "colab": {
          "base_uri": "https://localhost:8080/"
        },
        "outputId": "87ad7c87-c7c9-4140-bb6a-1be261eae4e2"
      },
      "execution_count": null,
      "outputs": [
        {
          "output_type": "stream",
          "name": "stdout",
          "text": [
            "Enter the number of rows: 3\n",
            "    * * * * \n",
            "     * * * \n",
            "      * * \n",
            "       * \n"
          ]
        }
      ]
    },
    {
      "cell_type": "code",
      "source": [
        "s='python'\n",
        "l=0\n",
        "for i in s:\n",
        "    l=l+1\n",
        "    print(s[0:0])"
      ],
      "metadata": {
        "colab": {
          "base_uri": "https://localhost:8080/"
        },
        "id": "V237Lp9epXYY",
        "outputId": "a8afde28-34a2-4459-9236-ddd809e883ff"
      },
      "execution_count": null,
      "outputs": [
        {
          "output_type": "stream",
          "name": "stdout",
          "text": [
            "\n",
            "\n",
            "\n",
            "\n",
            "\n",
            "\n"
          ]
        }
      ]
    },
    {
      "cell_type": "code",
      "source": [],
      "metadata": {
        "id": "cWzON8fK7Cvf"
      },
      "execution_count": null,
      "outputs": []
    }
  ]
}